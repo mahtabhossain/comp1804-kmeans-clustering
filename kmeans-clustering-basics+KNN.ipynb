{
 "cells": [
  {
   "cell_type": "markdown",
   "metadata": {},
   "source": [
    "<h1>A simple demonstration of an unsupervised learning [K-Means Clustering] algorithm followed by a supervised learning algorithm's application on the produced clustered data.</h1>"
   ]
  },
  {
   "cell_type": "code",
   "execution_count": 1,
   "metadata": {},
   "outputs": [],
   "source": [
    "import matplotlib.pyplot as plt # required for plots/figures"
   ]
  },
  {
   "cell_type": "markdown",
   "metadata": {},
   "source": [
    "<h1>Dataset [point (x,y) format] - only 8 of them</h1>"
   ]
  },
  {
   "cell_type": "code",
   "execution_count": 2,
   "metadata": {},
   "outputs": [
    {
     "name": "stdout",
     "output_type": "stream",
     "text": [
      "Input as a <class 'list'>\n",
      "Element of an input: <class 'tuple'>\n"
     ]
    },
    {
     "data": {
      "image/png": "[encoded data removed]",
      "text/plain": [
       "<Figure size 432x288 with 1 Axes>"
      ]
     },
     "metadata": {
      "needs_background": "light"
     },
     "output_type": "display_data"
    }
   ],
   "source": [
    "# some arbitrary two-dimensional points: these points will be divided into clusters\n",
    "points_list = [(1, 2),(4, 4),(2, 2),(1, 4),(5, 1),(2, 3),(4, 2),(5, 3)]\n",
    "\n",
    "## just draw the points as a scatter list\n",
    "## exploratory data analysis.....can give you an idea of choosing K?\n",
    "print('Input as a {}\\nElement of an input: {}'.format(type(points_list), type(points_list[0])))\n",
    "\n",
    "lst_x = [xy[0] for xy in points_list] # x coorindates\n",
    "lst_y = [xy[1] for xy in points_list] # y coorindates\n",
    "\n",
    "plt.scatter(lst_x, lst_y, marker='x',\n",
    "           label='data (x,y)')\n",
    "plt.legend()\n",
    "plt.ylim(0, max(lst_y)+1)\n",
    "plt.xlabel('x')\n",
    "plt.ylabel('y')\n",
    "plt.show()"
   ]
  },
  {
   "cell_type": "markdown",
   "metadata": {},
   "source": [
    "<h2>1. K-Means Clustering [Implementation from Scratch]</h2>\n",
    "In this notebook, we will demonstrate KMeans Clustering concept by implementing the algorithm ourselves. The target is to 'cluster' the point dataset. By just looking at the plot, it is intuitive that there could be two different clusters. We will also look at a method to find the optimum/appropriate value of K for this approach. Note that, KMeans is readily available from various libraries, e.g., scikit-learn implementation <a href=\"https://scikit-learn.org/stable/modules/clustering.html#k-means\">here</a> or even in OpenCV library [computer vision] <a href=\"https://docs.opencv.org/master/d1/d5c/tutorial_py_kmeans_opencv.html\">here</a>. One application of OpenCV's implementation is demonstrated in this notebook <a href=\"kmeans-clustering-segmentation.ipynb\">here</a>.<br/>\n",
    "\n",
    "<strong>Algorithm pseudocode</strong><br/>\n",
    "Input: a list of tuples (x, y)<br/>\n",
    "Output: a dictionary indexed by the classes (or clusters), inside each class a list of member points (x, y)<br/>\n",
    "1. Pick K points randomly from the list (initial centroids of the K-clusters)<br/>\n",
    "2. for each point (x, y) inside the list, compute distance from the K centroids, and assign the point (x,y)'s membership to the closet centroid<br/>\n",
    "3. Update the K-centroids as the average of all the members points within it<br/>\n",
    "4. Repeat steps 2 and 3 until the centroids between two epochs do not change."
   ]
  },
  {
   "cell_type": "markdown",
   "metadata": {},
   "source": [
    "<h4>1.1 Helper functions (for K-Means and KNN algorithms)</h4>"
   ]
  },
  {
   "cell_type": "code",
   "execution_count": 3,
   "metadata": {},
   "outputs": [],
   "source": [
    "from sys import maxsize\n",
    "\n",
    "# manhattan distance between two points (x1, y1) and (x2, y2)\n",
    "def computeDistance(point1, point2):\n",
    "    return (abs(point1[0]-point2[0])+abs(point1[1]-point2[1]))\n",
    "\n",
    "# input: two centroids, return True if they are not the same\n",
    "# if same, return false\n",
    "def notSameCentroid(centroid1, centroid2):\n",
    "    dist = 0\n",
    "    for i in range(len(centroid1)):\n",
    "        dist += computeDistance(centroid1[i], centroid2[i])\n",
    "    return dist != 0\n",
    "\n",
    "# argument, centroids and a point\n",
    "# return the class corresponding to the centroid that is closest match\n",
    "# in case of tie, put it inside the first cluster/centroid class\n",
    "def classMembership(centroids, point):\n",
    "    memberDist = -1, maxsize # initial condition\n",
    "    for i in range(len(centroids)):\n",
    "        dist = computeDistance(centroids[i], point)\n",
    "        if(dist < memberDist[1]): # update membership if this centroid is closer\n",
    "            memberDist = i, dist\n",
    "    return memberDist[0]\n",
    "\n",
    "# compute and return the mean of a list of two-dimensional tuples along both axes, (mean_x, mean_y)\n",
    "def computeMean(lst):\n",
    "    tupSum = 0, 0 # keeping the sum of x's, and y's as a tuple\n",
    "    N = len(lst)\n",
    "    for i in range(N):\n",
    "        tup = lst[i]\n",
    "        tupSum = tupSum[0]+tup[0], tupSum[1]+tup[1]\n",
    "    return tupSum[0]/N, tupSum[1]/N # return the mean/average as the new centroid"
   ]
  },
  {
   "cell_type": "markdown",
   "metadata": {},
   "source": [
    "<h4>1.2 K-Means Implementation</h4>"
   ]
  },
  {
   "cell_type": "code",
   "execution_count": 4,
   "metadata": {},
   "outputs": [
    {
     "name": "stdout",
     "output_type": "stream",
     "text": [
      "After Epoch 1:\n",
      "Previous Centroids: [(2, 2), (5, 1)] and New Centroids: [(2.3333333333333335, 2.8333333333333335), (5.0, 2.0)]\n",
      "After Epoch 2:\n",
      "Previous Centroids: [(2.3333333333333335, 2.8333333333333335), (5.0, 2.0)] and New Centroids: [(2.0, 3.0), (4.666666666666667, 2.0)]\n",
      "After Epoch 3:\n",
      "Previous Centroids: [(2.0, 3.0), (4.666666666666667, 2.0)] and New Centroids: [(1.5, 2.75), (4.5, 2.5)]\n",
      "After Epoch 4:\n",
      "Previous Centroids: [(1.5, 2.75), (4.5, 2.5)] and New Centroids: [(1.5, 2.75), (4.5, 2.5)]\n"
     ]
    }
   ],
   "source": [
    "from random import sample, seed\n",
    "\n",
    "seed(1) # ensuring the 'same' random selection\n",
    "K = 2 # number of clusters\n",
    "centroids = sample(points_list, K) # random selection of initial clusters\n",
    "pCentroids = []  # for the terminating condition check: the centroids between two subsequent epochs are the same\n",
    "for i in range(K):\n",
    "    pCentroids.append((maxsize, maxsize))\n",
    "\n",
    "epoch = 0 # to hold the number of epoch required for convergence\n",
    "epoch_lst = [] # to keep all the points and class membership across the epochs: for drawing graph\n",
    "centroids_lst = [] # list of centroids of the clusters over the epochs: again for drawing graph\n",
    "while notSameCentroid(centroids, pCentroids):\n",
    "    points = {} # this is the ultimate dictionary which will contain the results, class: [(x1, y1), (x2, y2)] format\n",
    "    for point in points_list: # assign membership of each point to a cluster\n",
    "        member = classMembership(centroids, point) # obtain the membership/cluster of a point/data\n",
    "        lst = []\n",
    "        if member in points:\n",
    "            lst = points[member] # if that cluster already exists, get the reference\n",
    "        lst.append(point) # add the new point/data to this cluster\n",
    "        points[member] = lst # update the cluster's members\n",
    "    # recompute the centroids\n",
    "    pCentroids = centroids.copy() # keep track of the previous centroid for terminating condition\n",
    "    for i in range(K):\n",
    "        lst = points[i]\n",
    "        centroids[i] = computeMean(lst) # the mean of the members of the clusters as the new centroid\n",
    "    epoch_lst.append(points)\n",
    "    centroids_lst.append(centroids.copy())\n",
    "    epoch += 1\n",
    "    print('After Epoch {}:\\nPrevious Centroids: {} and New Centroids: {}'.format(epoch, pCentroids, centroids))"
   ]
  },
  {
   "cell_type": "markdown",
   "metadata": {},
   "source": [
    "<h4>Output of K-Means algorithm on the sample data</h4>"
   ]
  },
  {
   "cell_type": "code",
   "execution_count": 5,
   "metadata": {},
   "outputs": [
    {
     "name": "stdout",
     "output_type": "stream",
     "text": [
      "2 Clusters:\n",
      "{0: [(1, 2), (2, 2), (1, 4), (2, 3)], 1: [(4, 4), (5, 1), (4, 2), (5, 3)]}\n"
     ]
    },
    {
     "data": {
      "image/png": "[encoded data removed]",
      "text/plain": [
       "<Figure size 900x540 with 4 Axes>"
      ]
     },
     "metadata": {
      "needs_background": "light"
     },
     "output_type": "display_data"
    }
   ],
   "source": [
    "# for the current dataset, two classes: 0, 1 \n",
    "# each having 4 members: this is the outuput of an unsupervised learning [K-means clustering]\n",
    "print('{} Clusters:\\n{}'.format(K, points))\n",
    "\n",
    "# for the current input setting, the output should be this:\n",
    "#points = {0: [(1, 2),(1, 4),(2, 2),(2, 3)],\n",
    "#        1: [(4, 2),(4, 4),(5, 1),(5, 3)]}\n",
    "\n",
    "_ = plt.figure(figsize=(12.5, 7.5))\n",
    "plot_grid = 221 # you may need to change this part if there are more figures to show!!! For example, if you change the input data, value of K etc.\n",
    "\n",
    "# traverse through the class elements (2D points)\n",
    "# and scatter plot to show the classes/clusters for each epoch\n",
    "for i in range(len(epoch_lst)):\n",
    "#for i in range(1):\n",
    "    ax =  plt.subplot(plot_grid)\n",
    "    for key, val in epoch_lst[i].items():\n",
    "        # spearate the x and y of the point (x, y) inside individual list\n",
    "        lst_x = [xy[0] for xy in val] # x coorindates\n",
    "        lst_y = [xy[1] for xy in val] # y coorindates\n",
    "        ax.scatter(lst_x, lst_y, marker='x',\n",
    "            label=\"cluster '{0}'\".format(key))\n",
    "    for j in range(K): # drawing the K centroids\n",
    "        centroid_txt = \"cluster '{}' center\".format(j)\n",
    "        ax.scatter(centroids_lst[i][j][0], centroids_lst[i][j][1], marker='o') # drawing the centroids/cluster centers\n",
    "        ax.annotate(centroid_txt, (centroids_lst[i][j][0], centroids_lst[i][j][1])) # the texts related to centroids/cluster centers\n",
    "    plt.title('Epoch {}'.format(i+1))\n",
    "    plt.xlabel('x')\n",
    "    plt.ylabel('y')\n",
    "    plt.legend(loc='best')\n",
    "    plot_grid = plot_grid + 1\n",
    "plt.tight_layout()\n",
    "plt.show()"
   ]
  },
  {
   "cell_type": "markdown",
   "metadata": {},
   "source": [
    "<h2>2. KMeans Clustering [Scikit-Learn Implementation]</h2>\n",
    "In this part, we will apply scikit-learn's KMeans algorithm implementation <a href='https://scikit-learn.org/stable/modules/generated/sklearn.cluster.KMeans.html'>here</a> to obtain the same results. We will also look how to select an appropriate value of K [cluster size] - <strong>Elbow Method</strong>."
   ]
  },
  {
   "cell_type": "code",
   "execution_count": 6,
   "metadata": {},
   "outputs": [],
   "source": [
    "import pandas as pd\n",
    "from sklearn.cluster import KMeans"
   ]
  },
  {
   "cell_type": "code",
   "execution_count": 7,
   "metadata": {},
   "outputs": [
    {
     "data": {
      "text/html": [
       "<div>\n",
       "<style scoped>\n",
       "    .dataframe tbody tr th:only-of-type {\n",
       "        vertical-align: middle;\n",
       "    }\n",
       "\n",
       "    .dataframe tbody tr th {\n",
       "        vertical-align: top;\n",
       "    }\n",
       "\n",
       "    .dataframe thead th {\n",
       "        text-align: right;\n",
       "    }\n",
       "</style>\n",
       "<table border=\"1\" class=\"dataframe\">\n",
       "  <thead>\n",
       "    <tr style=\"text-align: right;\">\n",
       "      <th></th>\n",
       "      <th>0</th>\n",
       "      <th>1</th>\n",
       "      <th>2</th>\n",
       "      <th>3</th>\n",
       "      <th>4</th>\n",
       "      <th>5</th>\n",
       "      <th>6</th>\n",
       "      <th>7</th>\n",
       "    </tr>\n",
       "  </thead>\n",
       "  <tbody>\n",
       "    <tr>\n",
       "      <th>x</th>\n",
       "      <td>1</td>\n",
       "      <td>4</td>\n",
       "      <td>2</td>\n",
       "      <td>1</td>\n",
       "      <td>5</td>\n",
       "      <td>2</td>\n",
       "      <td>4</td>\n",
       "      <td>5</td>\n",
       "    </tr>\n",
       "    <tr>\n",
       "      <th>y</th>\n",
       "      <td>2</td>\n",
       "      <td>4</td>\n",
       "      <td>2</td>\n",
       "      <td>4</td>\n",
       "      <td>1</td>\n",
       "      <td>3</td>\n",
       "      <td>2</td>\n",
       "      <td>3</td>\n",
       "    </tr>\n",
       "  </tbody>\n",
       "</table>\n",
       "</div>"
      ],
      "text/plain": [
       "   0  1  2  3  4  5  6  7\n",
       "x  1  4  2  1  5  2  4  5\n",
       "y  2  4  2  4  1  3  2  3"
      ]
     },
     "execution_count": 7,
     "metadata": {},
     "output_type": "execute_result"
    }
   ],
   "source": [
    "# converting the points_list into a dataframe\n",
    "df = pd.DataFrame({'x': [x[0] for x in points_list], 'y': [x[1] for x in points_list]}, columns=['x', 'y'])\n",
    "# showing it as a transpose dataframe: note that x, y are actually columns in the original df\n",
    "df.transpose().head(8)"
   ]
  },
  {
   "cell_type": "code",
   "execution_count": 8,
   "metadata": {},
   "outputs": [
    {
     "data": {
      "text/html": [
       "<div>\n",
       "<style scoped>\n",
       "    .dataframe tbody tr th:only-of-type {\n",
       "        vertical-align: middle;\n",
       "    }\n",
       "\n",
       "    .dataframe tbody tr th {\n",
       "        vertical-align: top;\n",
       "    }\n",
       "\n",
       "    .dataframe thead th {\n",
       "        text-align: right;\n",
       "    }\n",
       "</style>\n",
       "<table border=\"1\" class=\"dataframe\">\n",
       "  <thead>\n",
       "    <tr style=\"text-align: right;\">\n",
       "      <th></th>\n",
       "      <th>0</th>\n",
       "      <th>1</th>\n",
       "      <th>2</th>\n",
       "      <th>3</th>\n",
       "      <th>4</th>\n",
       "      <th>5</th>\n",
       "      <th>6</th>\n",
       "      <th>7</th>\n",
       "    </tr>\n",
       "  </thead>\n",
       "  <tbody>\n",
       "    <tr>\n",
       "      <th>x</th>\n",
       "      <td>1</td>\n",
       "      <td>4</td>\n",
       "      <td>2</td>\n",
       "      <td>1</td>\n",
       "      <td>5</td>\n",
       "      <td>2</td>\n",
       "      <td>4</td>\n",
       "      <td>5</td>\n",
       "    </tr>\n",
       "    <tr>\n",
       "      <th>y</th>\n",
       "      <td>2</td>\n",
       "      <td>4</td>\n",
       "      <td>2</td>\n",
       "      <td>4</td>\n",
       "      <td>1</td>\n",
       "      <td>3</td>\n",
       "      <td>2</td>\n",
       "      <td>3</td>\n",
       "    </tr>\n",
       "    <tr>\n",
       "      <th>cluster</th>\n",
       "      <td>1</td>\n",
       "      <td>0</td>\n",
       "      <td>1</td>\n",
       "      <td>1</td>\n",
       "      <td>0</td>\n",
       "      <td>1</td>\n",
       "      <td>0</td>\n",
       "      <td>0</td>\n",
       "    </tr>\n",
       "  </tbody>\n",
       "</table>\n",
       "</div>"
      ],
      "text/plain": [
       "         0  1  2  3  4  5  6  7\n",
       "x        1  4  2  1  5  2  4  5\n",
       "y        2  4  2  4  1  3  2  3\n",
       "cluster  1  0  1  1  0  1  0  0"
      ]
     },
     "execution_count": 8,
     "metadata": {},
     "output_type": "execute_result"
    }
   ],
   "source": [
    "# n_clusters: determines the clusters, creating a new column 'cluster' inside the dataframe\n",
    "df['cluster'] = KMeans(n_clusters=2, init=\"k-means++\").fit_predict(df)\n",
    "# again showing it as a transpose dataframe: you will find that they are the same as computed in the previous section\n",
    "# the cluster indicator '0' or '1' might be swapped \n",
    "df.transpose().head()"
   ]
  },
  {
   "cell_type": "markdown",
   "metadata": {},
   "source": [
    "<h4>2.1 Elbow Method</h4>\n",
    "Steps:<br/>\n",
    "For different cluster (K) values, compute K-Means clusters<br/>\n",
    "For each K, calculate the total within-cluster sum of square (WCSS) distance<br/>\n",
    "Plot the WCSS versus K<br/>\n",
    "The location of a <strong>bend</strong> inside the plot indicates the optimum cluster number (in our case, K=2 which we have used in the previous cells)."
   ]
  },
  {
   "cell_type": "code",
   "execution_count": 9,
   "metadata": {},
   "outputs": [
    {
     "data": {
      "image/png": "[encoded data removed]",
      "text/plain": [
       "<Figure size 720x360 with 1 Axes>"
      ]
     },
     "metadata": {
      "needs_background": "light"
     },
     "output_type": "display_data"
    }
   ],
   "source": [
    "wcss = [] # storing the within-cluster sum of square (WCSS) distances\n",
    "for k in range(1,6): # different values of K = 1, 2, 3, 4, 5\n",
    "    kmeans = KMeans(n_clusters=k, init=\"k-means++\")\n",
    "    kmeans.fit(df)\n",
    "    wcss.append(kmeans.inertia_) # member variable inertia_ contains the WCSS for that particular K\n",
    "plt.figure(figsize=(10,5))    \n",
    "plt.grid()\n",
    "plt.plot(range(1,6),wcss, linewidth=2, color=\"blue\", marker =\"8\")\n",
    "plt.xlabel(\"K\")\n",
    "plt.xticks([x for x in range(1, 6)])\n",
    "plt.ylabel(\"WCSS\")\n",
    "plt.show()"
   ]
  },
  {
   "cell_type": "markdown",
   "metadata": {},
   "source": [
    "<h2>3. K-Nearest Neighbor (Self-Study)</h2>\n",
    "This is just a simple demonstration of K-Nearest Neighbor algorithm's working. Again, its implementation is available from the scikit-learn library - documentation <a href=\"https://scikit-learn.org/stable/modules/generated/sklearn.neighbors.KNeighborsClassifier.html\">here</a>.<br/>\n",
    "\n",
    "Problem statement:<br/>\n",
    "Input: a 2D point (x, y)<br/>\n",
    "Data Structure [training set in the form of a dictionary- the above <b>points</b> variable] - a list of 2D points tuple (val) indexed by classes/clusters [0 or 1] (key)<br/>\n",
    "Output: the list of K nearest points, and the identified class"
   ]
  },
  {
   "cell_type": "markdown",
   "metadata": {},
   "source": [
    "<h4>3.1 KNN Implementation</h4>"
   ]
  },
  {
   "cell_type": "code",
   "execution_count": 10,
   "metadata": {},
   "outputs": [],
   "source": [
    "# implement K-Nearest Neighbor\n",
    "# argument is the points data structure, and output should be \n",
    "# set of K nearest matches, and the identified class [majority voting]\n",
    "# e.g., if K=1, output should be the nearest match\n",
    "\n",
    "\n",
    "# Heap data structure\n",
    "# Python documentation of Heap can be found in:\n",
    "# https://docs.python.org/3/library/heapq.html\n",
    "import heapq\n",
    "\n",
    "# algorithm: compute distance from point to each point inside points data structure\n",
    "# create priority queue using 'distance' as the key\n",
    "# retrieve the first K elements from the priority queue, and output the average\n",
    "# if unfamiliar with Priority Queue data structure, then, https://docs.python.org/3/library/heapq.htm\n",
    "# for classification, return the majority vote of the classes of the K elements\n",
    "def KNearestNeighbor(points, K, point):\n",
    "    #PQ: data structure will hold class, index and the distance to point [tuple]\n",
    "    Q = []\n",
    "    for key, lst in points.items():\n",
    "        for ind in range(len(lst)):\n",
    "            dist = computeDistance(lst[ind], point)\n",
    "            heapq.heappush(Q, (dist, ind, key)) # the order of insertion dictates the key, here priority=dist\n",
    "            #print(key, ind, dist)\n",
    "\n",
    "    Kitems = [] # hold the K nearest points\n",
    "    clusters = {} # clusters: vote data structure in the form of dictionary\n",
    "    # iterating over to retrieve the K nearest points\n",
    "    for i in range(K):\n",
    "        if not Q: # no item inside the Queue [K >> greater than training dataset!!!]\n",
    "            break # this should be an exception: not handled inside the current implementation\n",
    "        tup = heapq.heappop(Q)\n",
    "        Kitems.append(points[tup[2]][tup[1]])\n",
    "        vote = clusters.get(tup[2], 0)\n",
    "        clusters[tup[2]] = vote+1\n",
    "    # returning the list of points\n",
    "    # and also the class where it is classified: majority voting class (for a tie of class membership votes, depending on max function implementation, can return any class!)\n",
    "    return Kitems, max(clusters, key=clusters.get)\n",
    "    #return Kitems, max(classes.items(), key=lambda x:x[1])"
   ]
  },
  {
   "cell_type": "markdown",
   "metadata": {},
   "source": [
    "<h4>3.2 Inference using KNN</h4>"
   ]
  },
  {
   "cell_type": "code",
   "execution_count": 11,
   "metadata": {},
   "outputs": [
    {
     "name": "stdout",
     "output_type": "stream",
     "text": [
      "The identified cluster of (2, 3) is: 0\n",
      "The nearest neighbors identified as:  [(2, 3), (2, 2)]\n"
     ]
    }
   ],
   "source": [
    "K = 2 # K of K-nearest neighbors: change it to see different impacts...\n",
    "point = (2, 3) # testing sample : change it to test its membership to the cluster\n",
    "result = KNearestNeighbor(points, K, point) # calling our K-NearestNeighbor implementation above\n",
    "print('The identified cluster of {} is: {}'.format(point, result[1]))\n",
    "print('The nearest neighbors identified as: ', result[0])"
   ]
  },
  {
   "cell_type": "markdown",
   "metadata": {},
   "source": [
    "<h2>Conclusion</h2>\n",
    "<ul>\n",
    "    <li>Change the value <b>K</b> in both algorithms to see the impact. Also, the initial 'points_list' dataset, try to add more points to observe different results.</li>\n",
    "    <li>One issue of the current K-Means algorithm is the random selection of the 'initial' centroids. This may result in undesired clusters just because of this step. Implement K-Means++ algorithm (consult the reference list) which tries to obtain the initial centroids with good spread. For the scikit-learn implementation, it is already achived by the option <em>init=k-means++</em> which we have used above.</li>\n",
    "</ul>\n",
    "<h2>References</h2>\n",
    "<ul>\n",
    "    <li>Sebastian Raschka, <a href='https://sebastianraschka.com/books.html'>Python Machine Learning, 3rd Edition</a></li>\n",
    "    <li>A Programmer's Guide to Data Mining, <a href='http://guidetodatamining.com/chapter8/'>Chapter 8, Clustering</a></li>\n",
    "    <li>Scikit-Learn's KMeans Documentation <a href='https://scikit-learn.org/stable/modules/generated/sklearn.cluster.KMeans.html'>here</a></li>\n",
    "</ul>"
   ]
  }
 ],
 "metadata": {
  "kernelspec": {
   "display_name": "Python 3",
   "language": "python",
   "name": "python3"
  },
  "language_info": {
   "codemirror_mode": {
    "name": "ipython",
    "version": 3
   },
   "file_extension": ".py",
   "mimetype": "text/x-python",
   "name": "python",
   "nbconvert_exporter": "python",
   "pygments_lexer": "ipython3",
   "version": "3.7.7"
  }
 },
 "nbformat": 4,
 "nbformat_minor": 4
}
